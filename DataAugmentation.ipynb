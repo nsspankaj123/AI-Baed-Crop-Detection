{
 "cells": [
  {
   "cell_type": "code",
   "execution_count": 1,
   "metadata": {},
   "outputs": [],
   "source": [
    "import cv2,os\n",
    "from tqdm import tqdm\n",
    "from keras.preprocessing.image import ImageDataGenerator"
   ]
  },
  {
   "cell_type": "code",
   "execution_count": 2,
   "metadata": {},
   "outputs": [],
   "source": [
    "# Path to your original dataset directory\n",
    "# Where is the ccurrent Dataset?\n",
    "dataset_dir = r'G:\\IIOR\\healthy'\n",
    "# Path to the augmented dataset directory\n",
    "# Where to save the augmented images?\n",
    "augmented_dir = os.path.join(dataset_dir, 'augmented_dataset')\n"
   ]
  },
  {
   "cell_type": "code",
   "execution_count": 3,
   "metadata": {},
   "outputs": [
    {
     "name": "stderr",
     "output_type": "stream",
     "text": [
      "100%|██████████| 192/192 [1:06:55<00:00, 20.92s/it]\n"
     ]
    }
   ],
   "source": [
    "\n",
    "# Create the augmented dataset directory if it does not exist\n",
    "os.makedirs(augmented_dir, exist_ok=True)\n",
    "\n",
    "# Create an ImageDataGenerator object for data augmentation\n",
    "datagen = ImageDataGenerator(\n",
    "    rotation_range=40,\n",
    "    width_shift_range=0.2,\n",
    "    height_shift_range=0.2,\n",
    "    shear_range=0.2,\n",
    "    zoom_range=0.2,\n",
    "    horizontal_flip=True,\n",
    "    fill_mode='nearest'\n",
    ")\n",
    "\n",
    "# Function to augment images in the dataset\n",
    "def augment_dataset(dataset_dir, augmented_dir, datagen):\n",
    "    # Iterate through each file in the dataset directory\n",
    "    for file_name in tqdm(os.listdir(dataset_dir)):\n",
    "        file_path = os.path.join(dataset_dir, file_name)\n",
    "        # Check if the file is an image\n",
    "        if os.path.isfile(file_path) and file_name.endswith(('.JPG', '.jpeg', '.png')):\n",
    "            # Read the image\n",
    "            image = cv2.imread(file_path)\n",
    "            # Perform image augmentation using the datagen object\n",
    "            # Reshape the image to fit the datagen requirements (4D tensor)\n",
    "            image = image.reshape((1,) + image.shape)\n",
    "            # Generate batches of augmented images\n",
    "            augmented_images = datagen.flow(image, batch_size=1)\n",
    "            # Generate and save augmented images\n",
    "            for i in range(5):  # Generate 5 augmented images for each original image\n",
    "                augmented_image = augmented_images.next()[0].astype('uint8')  # Retrieve the augmented image\n",
    "                # Save the augmented image to the augmented dataset directory\n",
    "                augmented_file_path = os.path.join(augmented_dir, f'augmented_{file_name}_{i}.jpg')\n",
    "                cv2.imwrite(augmented_file_path, augmented_image)\n",
    "\n",
    "# Call the function to augment the dataset\n",
    "augment_dataset(dataset_dir, augmented_dir, datagen)"
   ]
  }
 ],
 "metadata": {
  "kernelspec": {
   "display_name": "py310",
   "language": "python",
   "name": "python3"
  },
  "language_info": {
   "codemirror_mode": {
    "name": "ipython",
    "version": 3
   },
   "file_extension": ".py",
   "mimetype": "text/x-python",
   "name": "python",
   "nbconvert_exporter": "python",
   "pygments_lexer": "ipython3",
   "version": "3.10.13"
  }
 },
 "nbformat": 4,
 "nbformat_minor": 2
}
